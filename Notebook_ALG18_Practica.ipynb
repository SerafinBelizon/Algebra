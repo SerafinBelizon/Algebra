{
 "cells": [
  {
   "cell_type": "markdown",
   "metadata": {},
   "source": [
    "# Practica de Algebra lineal\n",
    "\n",
    "### *Nombre*"
   ]
  },
  {
   "cell_type": "markdown",
   "metadata": {},
   "source": [
    "<span style=\"color:blue\">Ejercicio 1:  \n",
    "Usando los procedimientos add y mult_vector_escalar definidos anteriormente, calcular:   \n",
    "{$\\alpha$[1,2]+[3,4] : $\\alpha$$\\in$$\\mathbb{R}$, 0$\\leq$$\\alpha$$\\leq$1, con una precision de dos decimales (para la multiplicación)}</style>"
   ]
  },
  {
   "cell_type": "code",
   "execution_count": 1,
   "metadata": {
    "collapsed": true
   },
   "outputs": [],
   "source": [
    "def addn(v,w):\n",
    "    return[v[i]+w[i] for i in range(len(v))]"
   ]
  },
  {
   "cell_type": "code",
   "execution_count": 2,
   "metadata": {
    "collapsed": true
   },
   "outputs": [],
   "source": [
    "def mult_vector_escalar(alpha,v):\n",
    "    return [round(alpha*v[i],2) for i in range(len(v))]"
   ]
  },
  {
   "cell_type": "code",
   "execution_count": 3,
   "metadata": {},
   "outputs": [
    {
     "name": "stdout",
     "output_type": "stream",
     "text": [
      "Para alpha = 0.0 el resultado es:\n",
      "[3.0, 4.0]\n",
      "Para alpha = 0.1 el resultado es:\n",
      "[3.1, 4.2]\n",
      "Para alpha = 0.2 el resultado es:\n",
      "[3.2, 4.4]\n",
      "Para alpha = 0.3 el resultado es:\n",
      "[3.3, 4.6]\n",
      "Para alpha = 0.4 el resultado es:\n",
      "[3.4, 4.8]\n",
      "Para alpha = 0.5 el resultado es:\n",
      "[3.5, 5.0]\n",
      "Para alpha = 0.6 el resultado es:\n",
      "[3.6, 5.2]\n",
      "Para alpha = 0.7 el resultado es:\n",
      "[3.7, 5.4]\n",
      "Para alpha = 0.8 el resultado es:\n",
      "[3.8, 5.6]\n",
      "Para alpha = 0.9 el resultado es:\n",
      "[3.9, 5.8]\n",
      "Para alpha = 1.0 el resultado es:\n",
      "[4.0, 6.0]\n"
     ]
    }
   ],
   "source": [
    "import numpy as np\n",
    "v = [1,2]\n",
    "w = [3,4]\n",
    "for alpha in np.arange(0, 1.1, 0.1):\n",
    "        print (\"Para alpha = %.1f el resultado es:\" % alpha)\n",
    "        print(addn(mult_vector_escalar(alpha,v), w))"
   ]
  },
  {
   "cell_type": "markdown",
   "metadata": {},
   "source": [
    "<span style=\"color:blue\">Ejercicio 2:  \n",
    "Mortadelo y Filemón usan como clave el siguiente vector:</style>  \n",
    "> <span style=\"color:blue\">**k**=[0,1,0,0,1,0,1,0,1,0]</style>  \n",
    "\n",
    "<span style=\"color:blue\">Mortadelo quiere enviarle a Filemón el siguiente mensaje:</style>  \n",
    "> <span style=\"color:blue\">**p**=[0,0,0,1,1,1,0,1,0,1]</style>  \n",
    "\n",
    "<span style=\"color:blue\">Mortadelo encripta su mensaje añadiendo k:</style>  \n",
    "> <span style=\"color:blue\">**c**=**p**+**k**=[0,0,0,1,1,1,0,1,0,1]+[0,1,0,0,1,0,1,0,1,0]=[0,1,0,1,0,1,1,1,1,1]</style>  \n",
    "\n",
    "<span style=\"color:blue\">Cuando Filemón recibe el mensaje, lo desencripta añadiendo **k** a lo que ha recibido</style>  \n",
    "> <span style=\"color:blue\">**p**=**c**+**k**=[0,1,0,1,0,1,1,1,1,1]+[0,1,0,0,1,0,1,0,1,0]=[0,0,0,1,1,1,0,1,0,1]</style>    \n",
    "\n",
    "<span style=\"color:blue\">que es el mensaje original</style>    \n",
    "  \n",
    " <span style=\"color:blue\">¿Cómo lo harías en Python? (Definiendo un procedimiento)</style>  "
   ]
  },
  {
   "cell_type": "code",
   "execution_count": 4,
   "metadata": {
    "collapsed": true
   },
   "outputs": [],
   "source": [
    "def addGF2(a,b):\n",
    "    if (a == b):\n",
    "        return 0\n",
    "    else:\n",
    "        return (a+b)"
   ]
  },
  {
   "cell_type": "code",
   "execution_count": 5,
   "metadata": {
    "collapsed": true
   },
   "outputs": [],
   "source": [
    "def cryptoUtil(k,p):\n",
    "    if(len(k) == len(p)):\n",
    "        return [addGF2(k[i], p[i]) for i in range(len(p))]\n",
    "    else:\n",
    "        return \"Error. No tienen la misma longitud\""
   ]
  },
  {
   "cell_type": "code",
   "execution_count": 6,
   "metadata": {
    "collapsed": true
   },
   "outputs": [],
   "source": [
    "k = [0,1,0,0,1,0,1,0,1,0]\n",
    "p = [0,0,0,1,1,1,0,1,0,1]"
   ]
  },
  {
   "cell_type": "code",
   "execution_count": 7,
   "metadata": {},
   "outputs": [
    {
     "data": {
      "text/plain": [
       "[0, 1, 0, 1, 0, 1, 1, 1, 1, 1]"
      ]
     },
     "execution_count": 7,
     "metadata": {},
     "output_type": "execute_result"
    }
   ],
   "source": [
    "# Mortadelo encripta su mensaje\n",
    "c = cryptoUtil(k,p)\n",
    "c"
   ]
  },
  {
   "cell_type": "code",
   "execution_count": 8,
   "metadata": {},
   "outputs": [
    {
     "data": {
      "text/plain": [
       "[0, 0, 0, 1, 1, 1, 0, 1, 0, 1]"
      ]
     },
     "execution_count": 8,
     "metadata": {},
     "output_type": "execute_result"
    }
   ],
   "source": [
    "# Filemon lo recibe, y lo desencripta\n",
    "p = cryptoUtil(k,c)\n",
    "p"
   ]
  },
  {
   "cell_type": "markdown",
   "metadata": {},
   "source": [
    "<span style=\"color:blue\">Ejercicio 3: coste total o beneficio. </style>\n",
    "\n",
    "<span style=\"color:blue\">Supongamos que D es el conjunto de algunos ingredientes de la cerveza: </style>\n",
    "> <span style=\"color:blue\">D={lúpulo, malta, agua, levadura}</style>  \n",
    "\n",
    "<span style=\"color:blue\">Por otro lado tenemos el vector coste:</style>  \n",
    "> <span style=\"color:blue\">coste={lúpulo: 2,5€, malta: 1.5€, agua: 0.006€, levadura: 0,45€}</style>  \n",
    "\n",
    "<span style=\"color:blue\">Por último tenemos el vector cantidad con lo necesario para hacer una cerveza:</style>  \n",
    "> <span style=\"color:blue\">cantidad={lúpulo: 6u, malta: 14u, agua: 7u, levadura: 11u}</style>  \n",
    "\n",
    "<span style=\"color:blue\">¿Cuánto cuesta hacer una cerveza?</style> "
   ]
  },
  {
   "cell_type": "code",
   "execution_count": 9,
   "metadata": {
    "collapsed": true
   },
   "outputs": [],
   "source": [
    "def producto_escalar(u,v):\n",
    "    return sum(u[i]*v[i] for i in range(len(u)))"
   ]
  },
  {
   "cell_type": "code",
   "execution_count": 10,
   "metadata": {},
   "outputs": [
    {
     "data": {
      "text/plain": [
       "40.99"
      ]
     },
     "execution_count": 10,
     "metadata": {},
     "output_type": "execute_result"
    }
   ],
   "source": [
    "coste = [2.5, 1.5, 0.006, 0.45]\n",
    "cantidad = [6,14,7,11]\n",
    "costeCerveza = producto_escalar(coste, cantidad)\n",
    "round(costeCerveza,2)"
   ]
  },
  {
   "cell_type": "markdown",
   "metadata": {},
   "source": [
    "<span style=\"color:blue\"> Ejercicio 4:   \n",
    "¿Cómo escribirías cada uno de los vectores {[3,0,0],[0,2,0],[0,0,1]} como combinación lineal de {[2,0,1],[1,0,2],[2,2,2]}?\n",
    "Escribe las combinaciones lineales en Python. Seguramente tenga que definir una nueva suma.</style>"
   ]
  },
  {
   "cell_type": "code",
   "execution_count": 11,
   "metadata": {
    "collapsed": true
   },
   "outputs": [],
   "source": [
    "def addn3(u,v,w):\n",
    "    return[u[i]+v[i]+w[i] for i in range(len(u))]"
   ]
  },
  {
   "cell_type": "code",
   "execution_count": 12,
   "metadata": {
    "collapsed": true
   },
   "outputs": [],
   "source": [
    "# Siendo los vectores\n",
    "u = [2,0,1]\n",
    "v = [1,0,2]\n",
    "w = [2,2,2]"
   ]
  },
  {
   "cell_type": "code",
   "execution_count": 13,
   "metadata": {},
   "outputs": [
    {
     "data": {
      "text/plain": [
       "[3.0, 0.0, 0.0]"
      ]
     },
     "execution_count": 13,
     "metadata": {},
     "output_type": "execute_result"
    }
   ],
   "source": [
    "# Para el primer vector ([3,0,0])\n",
    "addn3(mult_vector_escalar(2,u), mult_vector_escalar(-1,v), mult_vector_escalar(0,w))"
   ]
  },
  {
   "cell_type": "code",
   "execution_count": 14,
   "metadata": {},
   "outputs": [
    {
     "data": {
      "text/plain": [
       "[0.0, 2.0, 0.0]"
      ]
     },
     "execution_count": 14,
     "metadata": {},
     "output_type": "execute_result"
    }
   ],
   "source": [
    "# Para el segundo vector ([0,2,0])\n",
    "addn3(mult_vector_escalar(-0.666,u), mult_vector_escalar(-0.666,v), mult_vector_escalar(1,w))"
   ]
  },
  {
   "cell_type": "code",
   "execution_count": 15,
   "metadata": {},
   "outputs": [
    {
     "data": {
      "text/plain": [
       "[0.0, 0.0, 1.0]"
      ]
     },
     "execution_count": 15,
     "metadata": {},
     "output_type": "execute_result"
    }
   ],
   "source": [
    "# Para el tercer vector ([0,0,1])\n",
    "addn3(mult_vector_escalar(-0.333,u), mult_vector_escalar(0.666,v), mult_vector_escalar(0,w))"
   ]
  },
  {
   "cell_type": "markdown",
   "metadata": {},
   "source": [
    "<span style=\"color:blue\"> Ejercicio 5:  \n",
    "Dadas las matrices $\n",
    "  A=\n",
    "  \\left[ {\\begin{array}{cc}\n",
    "   2 & -3 \\\\\n",
    "   -4 & 6\\\\\n",
    "  \\end{array} } \\right]\n",
    "$ , $\n",
    "  B=\n",
    "  \\left[ {\\begin{array}{cc}\n",
    "   8 & 4 \\\\\n",
    "   5 & 5\\\\\n",
    "  \\end{array} } \\right]\n",
    "$\n",
    "y $\n",
    "  C=\n",
    "  \\left[ {\\begin{array}{cc}\n",
    "   5 & -2 \\\\\n",
    "   3 & 1\\\\\n",
    "  \\end{array} } \\right]\n",
    "$, queremos verificar que AB=AC pero que B≠C.</style> "
   ]
  },
  {
   "cell_type": "code",
   "execution_count": 16,
   "metadata": {
    "collapsed": true
   },
   "outputs": [],
   "source": [
    "import numpy as np\n",
    "A = np.matrix([\n",
    "    [2,-3],\n",
    "    [-4,6]\n",
    "])\n",
    "B = np.matrix([\n",
    "    [8,4],\n",
    "    [5,5]\n",
    "])\n",
    "C = np.matrix([\n",
    "    [5,-2],\n",
    "    [3,1]\n",
    "])"
   ]
  },
  {
   "cell_type": "code",
   "execution_count": 17,
   "metadata": {},
   "outputs": [
    {
     "data": {
      "text/plain": [
       "matrix([[ 1, -7],\n",
       "        [-2, 14]])"
      ]
     },
     "execution_count": 17,
     "metadata": {},
     "output_type": "execute_result"
    }
   ],
   "source": [
    "A*B"
   ]
  },
  {
   "cell_type": "code",
   "execution_count": 18,
   "metadata": {},
   "outputs": [
    {
     "data": {
      "text/plain": [
       "matrix([[ 1, -7],\n",
       "        [-2, 14]])"
      ]
     },
     "execution_count": 18,
     "metadata": {},
     "output_type": "execute_result"
    }
   ],
   "source": [
    "A*C"
   ]
  },
  {
   "cell_type": "code",
   "execution_count": 19,
   "metadata": {},
   "outputs": [
    {
     "data": {
      "text/plain": [
       "matrix([[False, False],\n",
       "        [False, False]], dtype=bool)"
      ]
     },
     "execution_count": 19,
     "metadata": {},
     "output_type": "execute_result"
    }
   ],
   "source": [
    "(B == C)"
   ]
  },
  {
   "cell_type": "markdown",
   "metadata": {},
   "source": [
    "<span style=\"color:blue\"> Ejercicio 6 :  \n",
    "Dadas la matriz $\n",
    "  A=\n",
    "  \\left[ {\\begin{array}{cc}\n",
    "   3 & -6 \\\\\n",
    "   -1 & 2\\\\\n",
    "  \\end{array} } \\right]\n",
    "$ , construye una matriz B de 2 × 2 tal que AB sea igual a la matriz cero. Las columnas de B no deben ser iguales entre sí y deben ser distintas de cero.\n",
    ".</style> "
   ]
  },
  {
   "cell_type": "markdown",
   "metadata": {},
   "source": [
    "<span style=\"color:orange\">\n",
    "Debemos encontrar **B** = $\n",
    "  \\left[ {\\begin{array}{cc}\n",
    "   a & b \\\\\n",
    "   c & d\\\\\n",
    "  \\end{array} } \\right]\n",
    "$ , tal que:  \n",
    "$\n",
    "  \\left[ {\\begin{array}{cc}\n",
    "   3 & -6\\\\\n",
    "   -1 & 2\\\\\n",
    "  \\end{array} } \\right]\n",
    "$  *  $\n",
    "  \\left[ {\\begin{array}{cc}\n",
    "   a & b\\\\\n",
    "   c & d\\\\\n",
    "  \\end{array} } \\right]\n",
    "$ = $\n",
    "  \\left[ {\\begin{array}{cc}\n",
    "   0 & 0\\\\\n",
    "   0 & 0\\\\\n",
    "  \\end{array} } \\right]\n",
    "$  </style>"
   ]
  },
  {
   "cell_type": "markdown",
   "metadata": {},
   "source": [
    "<span style=\"color:orange\">Por tanto, resolveremos el Sistema:</style>\n",
    "> <span style=\"color:orange\">3a - 6c = 0  </style>  \n",
    "> <span style=\"color:orange\">-a + 2c = 0  </style>  \n",
    "> <span style=\"color:orange\">3b - 6c = 0  </style>  \n",
    "> <span style=\"color:orange\">-b + 2d = 0  </style>  "
   ]
  },
  {
   "cell_type": "code",
   "execution_count": 20,
   "metadata": {},
   "outputs": [
    {
     "data": {
      "text/plain": [
       "2"
      ]
     },
     "execution_count": 20,
     "metadata": {},
     "output_type": "execute_result"
    }
   ],
   "source": [
    "import numpy as np\n",
    "A = np.matrix([\n",
    "    [3,0,-6,0],\n",
    "    [-1,0,2,0],\n",
    "    [0,3,0,-6],\n",
    "    [0,-1,0,2]\n",
    "])\n",
    "\n",
    "np.linalg.matrix_rank(A)"
   ]
  },
  {
   "cell_type": "code",
   "execution_count": 21,
   "metadata": {},
   "outputs": [
    {
     "data": {
      "text/plain": [
       "2"
      ]
     },
     "execution_count": 21,
     "metadata": {},
     "output_type": "execute_result"
    }
   ],
   "source": [
    "AM = np.matrix([\n",
    "    [3,0,-6,0,0],\n",
    "    [-1,0,2,0,0],\n",
    "    [0,3,0,-6,0],\n",
    "    [0,-1,0,2,0]\n",
    "])\n",
    "\n",
    "np.linalg.matrix_rank(AM)"
   ]
  },
  {
   "cell_type": "markdown",
   "metadata": {},
   "source": [
    "<span style=\"color:orange\">Sistema Compatible Indeterminado (infinitas Soluciones).</style> "
   ]
  },
  {
   "cell_type": "code",
   "execution_count": 22,
   "metadata": {},
   "outputs": [
    {
     "data": {
      "text/plain": [
       "{b: 2*d, a: 2*c}"
      ]
     },
     "execution_count": 22,
     "metadata": {},
     "output_type": "execute_result"
    }
   ],
   "source": [
    "from sympy import Matrix, solve_linear_system\n",
    "from sympy.abc import a,b,c,d\n",
    "AM = Matrix([\n",
    "    [3,0,-6,0,0],\n",
    "    [-1,0,2,0,0],\n",
    "    [0,3,0,-6,0],\n",
    "    [0,-1,0,2,0] \n",
    "])\n",
    "solve_linear_system(AM,a,b,c,d)"
   ]
  },
  {
   "cell_type": "markdown",
   "metadata": {},
   "source": [
    "<span style=\"color:orange\">Si tomamos a = 4, nos queda que c = a / 2 = 4 / 2 = 2.</style>  \n",
    "<span style=\"color:orange\">Tomando b = 6, nos queda que d = b / 2 = 6 / 2 = 3.</style>  \n",
    "<span style=\"color:orange\">Con lo que B = $\n",
    "  \\left[ {\\begin{array}{cc}\n",
    "   4 & 6 \\\\\n",
    "   2 & 3\\\\\n",
    "  \\end{array} } \\right]\n",
    "$</style>  "
   ]
  },
  {
   "cell_type": "code",
   "execution_count": 23,
   "metadata": {},
   "outputs": [
    {
     "data": {
      "text/plain": [
       "matrix([[0, 0],\n",
       "        [0, 0]])"
      ]
     },
     "execution_count": 23,
     "metadata": {},
     "output_type": "execute_result"
    }
   ],
   "source": [
    "A = np.matrix([\n",
    "    [3,-6],\n",
    "    [-1,2]\n",
    "])\n",
    "B = np.matrix([\n",
    "    [4,6],\n",
    "    [2,3]\n",
    "])\n",
    "\n",
    "A*B"
   ]
  },
  {
   "cell_type": "markdown",
   "metadata": {},
   "source": [
    "<span style=\"color:blue\"> Ejercicio 7:  \n",
    "Sarrus para el determinante de orden 3.  \n",
    "¿Cómo lo haríamos en Python?</style>"
   ]
  },
  {
   "cell_type": "code",
   "execution_count": 24,
   "metadata": {
    "collapsed": true
   },
   "outputs": [],
   "source": [
    "def sarrus3(M):\n",
    "    return M[0,0] * M[1,1] * M[2,2] + \\\n",
    "    M[0,1] * M[1,2] * M[2,0] + \\\n",
    "    M[1,0] * M[2,1] * M[0,2] - \\\n",
    "    (M[2,0] * M[1,1] * M[0,2] + \\\n",
    "     M[1,0] * M[0,1] * M[2,2] + \\\n",
    "     M[2,1] * M[1,2] * M[0,0]\n",
    "    )"
   ]
  },
  {
   "cell_type": "code",
   "execution_count": 25,
   "metadata": {},
   "outputs": [
    {
     "data": {
      "text/plain": [
       "-2"
      ]
     },
     "execution_count": 25,
     "metadata": {},
     "output_type": "execute_result"
    }
   ],
   "source": [
    "A = np.matrix([\n",
    "    [1,0,1],\n",
    "    [2,3,1],\n",
    "    [2,1,1]\n",
    "])\n",
    "sarrus3(A)"
   ]
  },
  {
   "cell_type": "markdown",
   "metadata": {},
   "source": [
    "<span style=\"color:blue\"> Ejercicio 8:  \n",
    "Sabemos que hay un modo directo en Python para calcular los rangos. Calcula el número de soluciones de estos tres sistemas de ecuaciones empleándolo.</style> "
   ]
  },
  {
   "cell_type": "markdown",
   "metadata": {},
   "source": [
    "> <span style=\"color:blue\">x<sub>1</sub> − 2x<sub>2</sub> + x<sub>3</sub> = 0 </style>  \n",
    "> <span style=\"color:blue\">2x<sub>2</sub>−8x<sub>3</sub>= 8  </style>  \n",
    "> <span style=\"color:blue\">−4x<sub>1</sub> + 5x<sub>2</sub> + 9x<sub>3</sub> =− 9</style>"
   ]
  },
  {
   "cell_type": "code",
   "execution_count": 26,
   "metadata": {},
   "outputs": [
    {
     "data": {
      "text/plain": [
       "3"
      ]
     },
     "execution_count": 26,
     "metadata": {},
     "output_type": "execute_result"
    }
   ],
   "source": [
    "import numpy as np\n",
    "A1 = ([\n",
    "    [1,-2,1],\n",
    "    [0,2,-8],\n",
    "    [-4,5,9]\n",
    "])\n",
    "np.linalg.matrix_rank(A1)"
   ]
  },
  {
   "cell_type": "code",
   "execution_count": 27,
   "metadata": {},
   "outputs": [
    {
     "data": {
      "text/plain": [
       "3"
      ]
     },
     "execution_count": 27,
     "metadata": {},
     "output_type": "execute_result"
    }
   ],
   "source": [
    "A1M = ([\n",
    "    [1,-2,1,0],\n",
    "    [0,2,-8,8],\n",
    "    [-4,5,9,-9]\n",
    "])\n",
    "np.linalg.matrix_rank(A1M)"
   ]
  },
  {
   "cell_type": "markdown",
   "metadata": {},
   "source": [
    "<span style=\"color:orange\">Sistema Compatible Determinado con 3 Soluciones.</style>   "
   ]
  },
  {
   "cell_type": "markdown",
   "metadata": {},
   "source": [
    "> <span style=\"color:blue\">x<sub>2</sub> −4x<sub>3</sub> =8  </style>  \n",
    "> <span style=\"color:blue\">2x<sub>1</sub> −3x<sub>2</sub> + 2x<sub>3</sub> =1  </style>  \n",
    "> <span style=\"color:blue\">5x<sub>1</sub> −8x<sub>2</sub> + 7x<sub>3</sub> =1</style>"
   ]
  },
  {
   "cell_type": "code",
   "execution_count": 28,
   "metadata": {},
   "outputs": [
    {
     "data": {
      "text/plain": [
       "2"
      ]
     },
     "execution_count": 28,
     "metadata": {},
     "output_type": "execute_result"
    }
   ],
   "source": [
    "A2 = ([\n",
    "    [0,1,-4],\n",
    "    [2,-3,2],\n",
    "    [5,-8,7]\n",
    "])\n",
    "np.linalg.matrix_rank(A2)"
   ]
  },
  {
   "cell_type": "code",
   "execution_count": 29,
   "metadata": {},
   "outputs": [
    {
     "data": {
      "text/plain": [
       "3"
      ]
     },
     "execution_count": 29,
     "metadata": {},
     "output_type": "execute_result"
    }
   ],
   "source": [
    "A2M = ([\n",
    "    [0,1,-4,8],\n",
    "    [2,-3,2,1],\n",
    "    [5,-8,7,1]\n",
    "])\n",
    "np.linalg.matrix_rank(A2M)"
   ]
  },
  {
   "cell_type": "markdown",
   "metadata": {},
   "source": [
    "<span style=\"color:orange\">Sistema Incompatible (0 Soluciones).</style>   "
   ]
  },
  {
   "cell_type": "markdown",
   "metadata": {},
   "source": [
    "> <span style=\"color:blue\">x<sub>1</sub> +x<sub>3</sub> =2  </style>  \n",
    "> <span style=\"color:blue\">2x<sub>1</sub> +3x<sub>2</sub> + x<sub>3</sub> =3  </style>  \n",
    "> <span style=\"color:blue\">3x<sub>1</sub> +3x<sub>2</sub> + 2x<sub>3</sub> =5</style>"
   ]
  },
  {
   "cell_type": "code",
   "execution_count": 30,
   "metadata": {},
   "outputs": [
    {
     "data": {
      "text/plain": [
       "2"
      ]
     },
     "execution_count": 30,
     "metadata": {},
     "output_type": "execute_result"
    }
   ],
   "source": [
    "A3 = ([\n",
    "    [1,0,1],\n",
    "    [2,3,1],\n",
    "    [3,3,2]\n",
    "])\n",
    "np.linalg.matrix_rank(A3)"
   ]
  },
  {
   "cell_type": "code",
   "execution_count": 31,
   "metadata": {},
   "outputs": [
    {
     "data": {
      "text/plain": [
       "2"
      ]
     },
     "execution_count": 31,
     "metadata": {},
     "output_type": "execute_result"
    }
   ],
   "source": [
    "A3M = ([\n",
    "    [1,0,1,2],\n",
    "    [2,3,1,3],\n",
    "    [3,3,2,5]\n",
    "])\n",
    "np.linalg.matrix_rank(A3M)"
   ]
  },
  {
   "cell_type": "markdown",
   "metadata": {},
   "source": [
    "<span style=\"color:orange\">Sistema Compatible Indeterminado (infinitas Soluciones).</style>   "
   ]
  },
  {
   "cell_type": "markdown",
   "metadata": {},
   "source": [
    "<span style=\"color:blue\"> Ejercicio 9:  \n",
    "Comprobar que r(x,y) para un ángulo $\\theta$ es una función lineal.</style> "
   ]
  },
  {
   "cell_type": "markdown",
   "metadata": {},
   "source": [
    "<span style=\"color:orange\">Tenemos que comprobar que:</style>  \n",
    "* <span style=\"color:orange\">Para cada vector v en V y cada escalar α en F, f (αv) = αf(v)</style>  \n",
    " <span style=\"color:orange\">En nuestro caso, r(αx,αy) = (α$\\cdot$cos($\\theta$), α$\\cdot$sen($\\theta$)) \n",
    "= α$\\cdot$(cos($\\theta$), sen($\\theta$))\n",
    "= α$\\cdot$r(x,y)  \n",
    "</style>  \n",
    "<span style=\"color:gray\">Si, por ejemplo, $\\theta$ = 90º, sabemos r([1,0]) = [0,1].  \n",
    "Si tomamos α = 3, entonces tendriamos que:  \n",
    "r(3x,3y) = (3$\\cdot$cos(90º), 3$\\cdot$sen(90º)) = (3$\\cdot$0, 3$\\cdot$1) = (0,3)   \n",
    "Finalmente, 3$\\cdot$(cos(90º), sen(90º)) = 3(0,1) = 3$\\cdot$r(x,y) = (0,3)</style>  "
   ]
  },
  {
   "cell_type": "markdown",
   "metadata": {},
   "source": [
    "* <span style=\"color:orange\">Por cada dos vectores u y v en V, f (u + v) = f (u) + f (v)</style>  \n",
    "<span style=\"color:orange\">En nuestro caso, r([x<sub>1</sub>,y<sub>1</sub>] + [x<sub>2</sub>,y<sub>2</sub>]) =\n",
    "r(x<sub>1</sub> + x<sub>2</sub>, y<sub>1</sub> + y<sub>2</sub>) =  \n",
    "(cos($\\theta$) - sen($\\theta$), sen($\\theta$) + cos($\\theta$)) =  \n",
    "(cos($\\theta$), sen($\\theta$)) + (-sen($\\theta$) + cos($\\theta$)) =  \n",
    "r([x<sub>1</sub>,y<sub>1</sub>]) + r([x<sub>2</sub>,y<sub>2</sub>])  \n",
    "</style>  \n",
    "<span style=\"color:gray\">Si, por ejemplo, $\\theta$ = 90º, sabemos que:  \n",
    "r([1,0]) = (cos(90º), sen(90º)) = [0,1]  \n",
    "y que r([0,1]) = (-sen(90º), cos(90º)) = [-1,0]</style>  \n",
    "<span style=\"color:gray\">Por tanto: r([1,0] + [0,1]) = r(1+0, 0+1) =  \n",
    "(cos(90º) - sen(90º), sen(90º) + cos(90º)) = (0-1, 1+0) = (-1,1)</style>  \n",
    "<span style=\"color:gray\">Finalmente:  \n",
    "(cos(90º) - sen(90º), sen(90º) + cos(90º)) =  \n",
    "(cos(90º), sen(90º)) + (-sen(90º), cos(90º)) = r([1,0]) + r([0,1)] =  \n",
    "[0,1] + [-1,0] = (-1,1)</style>  "
   ]
  },
  {
   "cell_type": "markdown",
   "metadata": {},
   "source": [
    "<span style=\"color:blue\"> Ejercicio 10:  \n",
    "¿Cuál es la representación coordenada del vector v= [6, 3, 2, 5] en términos de los vectores [2, 2, 2, 3], [1, 0, −1, 0], [0, 1, 0, 1]?</style> "
   ]
  },
  {
   "cell_type": "markdown",
   "metadata": {},
   "source": [
    "<span style=\"color:orange\">Tenemos que resolver el Sistema:</style>\n",
    "> <span style=\"color:orange\">2x<sub>1</sub> + x<sub>2</sub> = 6  </style>  \n",
    "> <span style=\"color:orange\">2x<sub>1</sub> + x<sub>3</sub> = 3  </style>  \n",
    "> <span style=\"color:orange\">x<sub>1</sub> −x<sub>2</sub> = 2</style>  \n",
    "> <span style=\"color:orange\">3x<sub>1</sub> + x<sub>3</sub> = 5</style>"
   ]
  },
  {
   "cell_type": "code",
   "execution_count": 32,
   "metadata": {},
   "outputs": [
    {
     "data": {
      "text/plain": [
       "3"
      ]
     },
     "execution_count": 32,
     "metadata": {},
     "output_type": "execute_result"
    }
   ],
   "source": [
    "import numpy as np\n",
    "A = np.matrix([\n",
    "    [2,1,0],\n",
    "    [2,0,1],\n",
    "    [2,-1,0],\n",
    "    [3,0,1]\n",
    "])\n",
    "np.linalg.matrix_rank(A)"
   ]
  },
  {
   "cell_type": "markdown",
   "metadata": {},
   "source": [
    "<span style=\"color:orange\">Como el rango es 3, descartamos la última ecuación (por ejemplo), y nos queda:</style>   \n",
    "> <span style=\"color:orange\">2x<sub>1</sub> + x<sub>2</sub> = 6  </style>  \n",
    "> <span style=\"color:orange\">2x<sub>1</sub> + x<sub>3</sub> = 3  </style>  \n",
    "> <span style=\"color:orange\">x<sub>1</sub> −x<sub>2</sub> = 2</style>  "
   ]
  },
  {
   "cell_type": "code",
   "execution_count": 33,
   "metadata": {},
   "outputs": [
    {
     "data": {
      "text/plain": [
       "3"
      ]
     },
     "execution_count": 33,
     "metadata": {},
     "output_type": "execute_result"
    }
   ],
   "source": [
    "AM = np.matrix([\n",
    "    [2,1,0,6],\n",
    "    [2,0,1,3],\n",
    "    [2,-1,0,2]\n",
    "])\n",
    "np.linalg.matrix_rank(AM)"
   ]
  },
  {
   "cell_type": "markdown",
   "metadata": {},
   "source": [
    "<span style=\"color:orange\">Con lo que tenemos un Sistema Compatible Determinado con 3 Soluciones.</style>   "
   ]
  },
  {
   "cell_type": "code",
   "execution_count": 34,
   "metadata": {},
   "outputs": [
    {
     "data": {
      "text/plain": [
       "matrix([[ 2.],\n",
       "        [ 2.],\n",
       "        [-1.]])"
      ]
     },
     "execution_count": 34,
     "metadata": {},
     "output_type": "execute_result"
    }
   ],
   "source": [
    "AR = np.matrix([\n",
    "    [2,1,0],\n",
    "    [2,0,1],\n",
    "    [2,-1,0]\n",
    "])\n",
    "VR = np.matrix([\n",
    "    [6],\n",
    "    [3],\n",
    "    [2]\n",
    "])\n",
    "np.linalg.solve(AR,VR)"
   ]
  },
  {
   "cell_type": "markdown",
   "metadata": {},
   "source": [
    "<span style=\"color:orange\"> El vector v = [6,3,2,5] es igual a 2[2,2,2,3]+2[1,0,-1,0]-1[0,1,0,1].  \n",
    "Por tanto, la representación en coordenadas de v en términos de los vectores [2,2,2,3],[1,0,-1,0],[0,1,0,1] es [2,2,-1]. </style>   "
   ]
  },
  {
   "cell_type": "markdown",
   "metadata": {},
   "source": [
    "<span style=\"color:blue\"> Ejercicio 11:  \n",
    "Supongamos que queremos diseñar la red de internet para el otro campus universitario.  \n",
    "La red debe lograr la misma conectividad que el grafo de entrada.  \n",
    "Una arista representa un posible cable.  \n",
    "El peso de la arista es el coste de instalar el cable.  \n",
    "Nuestro objetivo es minimizar el coste total, usando el algoritmo Grow y el algoritmo Shrink.  </style> "
   ]
  },
  {
   "cell_type": "markdown",
   "metadata": {},
   "source": [
    "<span style=\"color:orange\">\n",
    "** Algoritmo Grow**</style>  \n",
    "> <span style=\"color:orange\"> def Grow (G)</style>  \n",
    "> <span style=\"color:orange\"> S: = ∅</style>\n",
    "> <span style=\"color:orange\"> Consideremos las aristas e en orden creciente:</style>  \n",
    ">> <span style=\"color:orange\"> Si los puntos finales de e aún no están conectados, agregue e a S.</style>  \n",
    "\n",
    "<span style=\"color:orange\"> Colocamos las aristas en orden creciente según sus pesos: 2,7,9.  \n",
    "Cogemos la arista {Pembroke Campus, Bio-Med} y la añadimos a S.  \n",
    "Hay que añadir el nodo Athletic Complex. Se puede hacer:</style>  \n",
    "* <span style=\"color:orange\">{Pembroke Campus, Athletic Complex}: 7</style>\n",
    "* <span style=\"color:orange\">{Bio-Med, Athletic Complex}: 9</style>  \n",
    "\n",
    "<span style=\"color:orange\">Luego añadimos a S la arista {Pembroke Campus, Athletic Complex}.  \n",
    "\n",
    "<span style=\"color:orange\">\n",
    "Por tanto, el mínimo bosque generador del grafo quedaría:</style>  \n",
    "> <span style=\"color:orange\">S={ {Pembroke Campus, Bio-Med}, {Pembroke Campus, Athletic Complex} }</style>  \n",
    "\n",
    "<span style=\"color:orange\">** Algoritmo Shrink**</style>  \n",
    "> <span style=\"color:orange\"> def Shrink (G)</style>  \n",
    "> <span style=\"color:orange\"> S: = { {Pembroke Campus, Bio-Med}, {Bio-Med, Athletic Complex}, {Pembroke Campus, Athletic Complex} }</style>\n",
    "> <span style=\"color:orange\"> Consideremos las aristas e en orden decreciente:</style>  \n",
    ">> <span style=\"color:orange\"> Si cada par de nodos están conectados mediante S-{e}: quitar e de S.</style>  \n",
    "\n",
    "<span style=\"color:orange\"> Colocamos las aristas en orden decreciente según sus pesos: 9,7,2.  \n",
    "La arista que más peso tiene es {Bio-Med, Athletic Complex}: 9. Si la quito aún podría seguir yendo de Bio-Med a Athletic Complex.  \n",
    "Luego S= { {Pembroke Campus, Bio-Med}, {Pembroke Campus, Athletic Complex} }.  \n",
    "La otras dos aristas restantes: {Pembroke Campus, Bio-Med} y {Pembroke Campus, Athletic Complex} no se pueden eliminar.  \n",
    "Por tanto, finalmente queda S={ {Pembroke Campus, Bio-Med}, {Pembroke Campus, Athletic Complex} }.</style>  "
   ]
  },
  {
   "cell_type": "markdown",
   "metadata": {},
   "source": [
    "<span style=\"color:blue\"> Ejercicio 12:  \n",
    "Sea la matriz $\n",
    "  M=\n",
    "  \\left[ {\\begin{array}{cc}\n",
    "   1 & 0  & 0 & 5 \\\\\n",
    "   0 & 2  & 0 & 7 \\\\\n",
    "   0 & 0  & 3 & 9 \\\\\n",
    "  \\end{array} } \\right]\n",
    "$. Calcular el rango por filas y por columnas usando Python.</style> "
   ]
  },
  {
   "cell_type": "code",
   "execution_count": 35,
   "metadata": {},
   "outputs": [
    {
     "data": {
      "text/plain": [
       "3"
      ]
     },
     "execution_count": 35,
     "metadata": {},
     "output_type": "execute_result"
    }
   ],
   "source": [
    "import numpy as np\n",
    "M = np.matrix([\n",
    "    [1,0,0,5],\n",
    "    [0,2,0,7],\n",
    "    [0,0,3,9]\n",
    "])\n",
    "rangoFilas = np.linalg.matrix_rank(M)\n",
    "rangoFilas"
   ]
  },
  {
   "cell_type": "code",
   "execution_count": 36,
   "metadata": {},
   "outputs": [
    {
     "data": {
      "text/plain": [
       "3"
      ]
     },
     "execution_count": 36,
     "metadata": {},
     "output_type": "execute_result"
    }
   ],
   "source": [
    "rangoColumnas = np.linalg.matrix_rank(M.T)\n",
    "rangoColumnas"
   ]
  },
  {
   "cell_type": "markdown",
   "metadata": {
    "collapsed": true
   },
   "source": [
    "<span style=\"color:blue\"> Ejercicio 13 (opcional):  \n",
    "Crea un algoritmo que transforme una matriz cualquiera en GF(2) en una matriz escalonada.</style> "
   ]
  },
  {
   "cell_type": "code",
   "execution_count": null,
   "metadata": {
    "collapsed": true
   },
   "outputs": [],
   "source": []
  },
  {
   "cell_type": "markdown",
   "metadata": {},
   "source": [
    "<span style=\"color:blue\"> Ejercicio 14:  \n",
    "Modificar lo necesario en los algoritmos para que funcionen y calculen el problema de la casa en llamas.</style>"
   ]
  },
  {
   "cell_type": "code",
   "execution_count": 37,
   "metadata": {
    "collapsed": true
   },
   "outputs": [],
   "source": [
    "import numpy as np\n",
    "\n",
    "def producto_escalar(u,v):\n",
    "    return sum(u[i]*v[i] for i in range(len(u)))"
   ]
  },
  {
   "cell_type": "code",
   "execution_count": 38,
   "metadata": {
    "collapsed": true
   },
   "outputs": [],
   "source": [
    "def proyeccion_paralela(b, a):\n",
    "    sigma = (producto_escalar(b,a))/float((producto_escalar(a,a))) if (producto_escalar(a,a)) > 10^-20 else 0\n",
    "    return [float(sigma) * a[i] for i in range(len(a))]"
   ]
  },
  {
   "cell_type": "code",
   "execution_count": 39,
   "metadata": {},
   "outputs": [
    {
     "data": {
      "text/plain": [
       "[3.0, 1.0]"
      ]
     },
     "execution_count": 39,
     "metadata": {},
     "output_type": "execute_result"
    }
   ],
   "source": [
    "a=[6,2]\n",
    "b=[2,4]\n",
    "producto_escalar(a,a)\n",
    "proyeccion_paralela(b,a)"
   ]
  },
  {
   "cell_type": "markdown",
   "metadata": {},
   "source": [
    "<span style=\"color:orange\">Con lo que tenemos que el punto más cercano a **b** es [3,1].</style>   \n",
    "<span style=\"color:orange\">Ahora calculamos la proyección ortogonal b<sup>⊥a</sup>\\.</style>   "
   ]
  },
  {
   "cell_type": "code",
   "execution_count": 40,
   "metadata": {
    "collapsed": true
   },
   "outputs": [],
   "source": [
    "def proyeccion_ortogonal(b, a):\n",
    "    return [b[i] - proyeccion_paralela(b, a)[i] for i in range(len(b))]"
   ]
  },
  {
   "cell_type": "code",
   "execution_count": 41,
   "metadata": {},
   "outputs": [
    {
     "data": {
      "text/plain": [
       "[-1.0, 3.0]"
      ]
     },
     "execution_count": 41,
     "metadata": {},
     "output_type": "execute_result"
    }
   ],
   "source": [
    "proyeccion_ortogonal(b,a)"
   ]
  },
  {
   "cell_type": "markdown",
   "metadata": {},
   "source": [
    "<span style=\"color:orange\">Cuya norma es:</style>   "
   ]
  },
  {
   "cell_type": "code",
   "execution_count": 42,
   "metadata": {},
   "outputs": [
    {
     "data": {
      "text/plain": [
       "3.16"
      ]
     },
     "execution_count": 42,
     "metadata": {},
     "output_type": "execute_result"
    }
   ],
   "source": [
    "round(np.linalg.norm(proyeccion_ortogonal(b,a)),2)"
   ]
  },
  {
   "cell_type": "markdown",
   "metadata": {},
   "source": [
    "<span style=\"color:orange\">Por tanto, como la manguera mide 3.5, y la distancia a la casa es menor, podemos sofocar el incendio:</style>   "
   ]
  },
  {
   "cell_type": "code",
   "execution_count": 43,
   "metadata": {},
   "outputs": [
    {
     "data": {
      "text/plain": [
       "True"
      ]
     },
     "execution_count": 43,
     "metadata": {},
     "output_type": "execute_result"
    }
   ],
   "source": [
    "(np.linalg.norm(proyeccion_ortogonal(b,a)) < 3.5)"
   ]
  }
 ],
 "metadata": {
  "kernelspec": {
   "display_name": "Python 2",
   "language": "python",
   "name": "python2"
  },
  "language_info": {
   "codemirror_mode": {
    "name": "ipython",
    "version": 2
   },
   "file_extension": ".py",
   "mimetype": "text/x-python",
   "name": "python",
   "nbconvert_exporter": "python",
   "pygments_lexer": "ipython2",
   "version": "2.7.14"
  }
 },
 "nbformat": 4,
 "nbformat_minor": 2
}
